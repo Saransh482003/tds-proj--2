{
 "cells": [
  {
   "cell_type": "code",
   "execution_count": 6,
   "metadata": {},
   "outputs": [
    {
     "name": "stdout",
     "output_type": "stream",
     "text": [
      "Image saved to compressed_image.png successfully.\n"
     ]
    }
   ],
   "source": [
    "from PIL import Image\n",
    "\n",
    "def compress_png(image_path, output_path):\n",
    "    \"\"\"\n",
    "    Compresses a PNG image losslessly using Pillow.\n",
    "\n",
    "    Args:\n",
    "        image_path (str): Path to the input image file.\n",
    "        output_path (str): Path to save the compressed image.\n",
    "    \"\"\"\n",
    "    try:\n",
    "        img = Image.open(image_path)\n",
    "        img.save(output_path, \"PNG\", optimize=True)\n",
    "        print(f\"Image saved to {output_path} successfully.\")\n",
    "    except FileNotFoundError:\n",
    "        print(f\"Error: Image file not found at {image_path}\")\n",
    "    except Exception as e:\n",
    "        print(f\"An error occurred: {e}\")\n",
    "\n",
    "# Example usage\n",
    "input_image = \"shapes.png\"\n",
    "compressed_image = \"compressed_image.png\"\n",
    "compress_png(input_image, compressed_image)"
   ]
  },
  {
   "cell_type": "code",
   "execution_count": 11,
   "metadata": {},
   "outputs": [
    {
     "data": {
      "text/plain": [
       "\"Your Task      Source: Utilize IMDb's advanced web search at https://www.imdb.com/search/title/ to access movie data.      Filter: Filter all titles with a rating between 5 and 7.      Format: For up to the first 25 titles, extract the necessary details: ID, title, year, and rating. The ID of the movie is the part of the URL after tt in the href attribute. For example, tt10078772. Organize the data into a JSON structure as follows:      [       { 'id': 'tt1234567', 'title': 'Movie 1', 'year': '2021', 'rating': '5.8' },       { 'id': 'tt7654321', 'title': 'Movie 2', 'year': '2019', 'rating': '6.2' },       // ... more titles      ]      Submit: Submit the JSON data in the text box below.\""
      ]
     },
     "execution_count": 11,
     "metadata": {},
     "output_type": "execute_result"
    }
   ],
   "source": [
    "\"\"\"Your Task\n",
    "          Source: Utilize IMDb's advanced web search at https://www.imdb.com/search/title/ to access movie data.\n",
    "          Filter: Filter all titles with a rating between 5 and 7.\n",
    "          Format: For up to the first 25 titles, extract the necessary details: ID, title, year, and rating. The ID of the movie is the part of the URL after tt in the href attribute. For example, tt10078772. Organize the data into a JSON structure as follows:\n",
    "\n",
    "          [\n",
    "            { \"id\": \"tt1234567\", \"title\": \"Movie 1\", \"year\": \"2021\", \"rating\": \"5.8\" },\n",
    "            { \"id\": \"tt7654321\", \"title\": \"Movie 2\", \"year\": \"2019\", \"rating\": \"6.2\" },\n",
    "            // ... more titles\n",
    "          ]\n",
    "          Submit: Submit the JSON data in the text box below.\"\"\".replace(\"\\n\", \" \").replace(\"  \", \" \").replace(\"\\t\", \" \").replace(\"\\\"\", \"'\")"
   ]
  },
  {
   "cell_type": "code",
   "execution_count": 39,
   "metadata": {},
   "outputs": [],
   "source": [
    "import pandas as pd\n",
    "import requests\n",
    "import re\n",
    "import zipfile\n",
    "\n",
    "csv_data = {}\n",
    "def ga1_q12(question, files):\n",
    "    symbols = question.split(' OR ')\n",
    "    symbols[0] = symbols[0][-1]\n",
    "    symbols[-1] = symbols[-1][0]\n",
    "    with zipfile.ZipFile(\"q-unicode-data.zip\", 'r') as zip_ref:\n",
    "        print(\"Files in ZIP:\", zip_ref.namelist())\n",
    "        decode = [\"cp1252\",\"UTF-8\",\"UTF-16\"]\n",
    "        for i,file_name in enumerate(zip_ref.namelist()):\n",
    "            print(file_name)\n",
    "            if file_name.endswith('.csv') or file_name.endswith('.txt'):\n",
    "                with zip_ref.open(file_name) as f:\n",
    "                    csv_content = f.read().decode(decode[i])\n",
    "                    df = pd.read_csv(io.StringIO(csv_content))\n",
    "                    csv_data[file_name] = df\n",
    "    "
   ]
  },
  {
   "cell_type": "code",
   "execution_count": 40,
   "metadata": {},
   "outputs": [
    {
     "name": "stdout",
     "output_type": "stream",
     "text": [
      "Files in ZIP: ['data1.csv', 'data2.csv', 'data3.txt']\n",
      "data1.csv\n",
      "data2.csv\n",
      "data3.txt\n"
     ]
    }
   ],
   "source": [
    "ga1_q12(\"Download and process the files in  which contains three files with different encodings: data1.csv: CSV file encoded in CP-1252 data2.csv: CSV file encoded in UTF-8 data3.txt: Tab-separated file encoded in UTF-16 Each file has 2 columns: symbol and value. Sum up all the values where the symbol matches ‘ OR ‡ OR œ across all three files.What is the sum of all values associated with these symbols?\",\"file\")"
   ]
  },
  {
   "cell_type": "code",
   "execution_count": 41,
   "metadata": {},
   "outputs": [
    {
     "data": {
      "text/plain": [
       "{'data1.csv':     symbol  value\n",
       " 0        ‘      0\n",
       " 1        ‡      1\n",
       " 2        œ      2\n",
       " 3        „      3\n",
       " 4        …      4\n",
       " ..     ...    ...\n",
       " 495      ‚    495\n",
       " 496      ‘    496\n",
       " 497      œ    497\n",
       " 498      ›    498\n",
       " 499      ˆ    499\n",
       " \n",
       " [500 rows x 2 columns],\n",
       " 'data2.csv':     symbol  value\n",
       " 0        †      0\n",
       " 1        ‘      1\n",
       " 2        „      2\n",
       " 3        ‡      3\n",
       " 4        —      4\n",
       " ..     ...    ...\n",
       " 495      ˜    495\n",
       " 496      ‰    496\n",
       " 497      ˆ    497\n",
       " 498      †    498\n",
       " 499      “    499\n",
       " \n",
       " [500 rows x 2 columns],\n",
       " 'data3.txt':     symbol\\tvalue\n",
       " 0            ˜\\t0\n",
       " 1            ‰\\t1\n",
       " 2            ‚\\t2\n",
       " 3            Š\\t3\n",
       " 4            ˜\\t4\n",
       " ..            ...\n",
       " 495        —\\t495\n",
       " 496        €\\t496\n",
       " 497        “\\t497\n",
       " 498        ’\\t498\n",
       " 499        …\\t499\n",
       " \n",
       " [500 rows x 1 columns]}"
      ]
     },
     "execution_count": 41,
     "metadata": {},
     "output_type": "execute_result"
    }
   ],
   "source": [
    "csv_data"
   ]
  },
  {
   "cell_type": "code",
   "execution_count": 32,
   "metadata": {},
   "outputs": [
    {
     "name": "stdout",
     "output_type": "stream",
     "text": [
      "Empty DataFrame\n",
      "Columns: [symbol, value]\n",
      "Index: []\n",
      "Empty DataFrame\n",
      "Columns: [symbol, value]\n",
      "Index: []\n"
     ]
    }
   ],
   "source": [
    "for i in csv_data:\n",
    "    curr_data = csv_data[i]\n",
    "    curr_data = curr_data[curr_data['symbol'].str.contains('|'.join(['‘,‡,œ']))]\n",
    "    print(curr_data)"
   ]
  },
  {
   "cell_type": "code",
   "execution_count": 43,
   "metadata": {},
   "outputs": [
    {
     "data": {
      "text/html": [
       "<div>\n",
       "<style scoped>\n",
       "    .dataframe tbody tr th:only-of-type {\n",
       "        vertical-align: middle;\n",
       "    }\n",
       "\n",
       "    .dataframe tbody tr th {\n",
       "        vertical-align: top;\n",
       "    }\n",
       "\n",
       "    .dataframe thead th {\n",
       "        text-align: right;\n",
       "    }\n",
       "</style>\n",
       "<table border=\"1\" class=\"dataframe\">\n",
       "  <thead>\n",
       "    <tr style=\"text-align: right;\">\n",
       "      <th></th>\n",
       "      <th>symbol</th>\n",
       "      <th>value</th>\n",
       "    </tr>\n",
       "  </thead>\n",
       "  <tbody>\n",
       "    <tr>\n",
       "      <th>0</th>\n",
       "      <td>‘</td>\n",
       "      <td>0</td>\n",
       "    </tr>\n",
       "    <tr>\n",
       "      <th>1</th>\n",
       "      <td>‡</td>\n",
       "      <td>1</td>\n",
       "    </tr>\n",
       "    <tr>\n",
       "      <th>2</th>\n",
       "      <td>œ</td>\n",
       "      <td>2</td>\n",
       "    </tr>\n",
       "    <tr>\n",
       "      <th>3</th>\n",
       "      <td>„</td>\n",
       "      <td>3</td>\n",
       "    </tr>\n",
       "    <tr>\n",
       "      <th>4</th>\n",
       "      <td>…</td>\n",
       "      <td>4</td>\n",
       "    </tr>\n",
       "    <tr>\n",
       "      <th>...</th>\n",
       "      <td>...</td>\n",
       "      <td>...</td>\n",
       "    </tr>\n",
       "    <tr>\n",
       "      <th>495</th>\n",
       "      <td>‚</td>\n",
       "      <td>495</td>\n",
       "    </tr>\n",
       "    <tr>\n",
       "      <th>496</th>\n",
       "      <td>‘</td>\n",
       "      <td>496</td>\n",
       "    </tr>\n",
       "    <tr>\n",
       "      <th>497</th>\n",
       "      <td>œ</td>\n",
       "      <td>497</td>\n",
       "    </tr>\n",
       "    <tr>\n",
       "      <th>498</th>\n",
       "      <td>›</td>\n",
       "      <td>498</td>\n",
       "    </tr>\n",
       "    <tr>\n",
       "      <th>499</th>\n",
       "      <td>ˆ</td>\n",
       "      <td>499</td>\n",
       "    </tr>\n",
       "  </tbody>\n",
       "</table>\n",
       "<p>500 rows × 2 columns</p>\n",
       "</div>"
      ],
      "text/plain": [
       "    symbol  value\n",
       "0        ‘      0\n",
       "1        ‡      1\n",
       "2        œ      2\n",
       "3        „      3\n",
       "4        …      4\n",
       "..     ...    ...\n",
       "495      ‚    495\n",
       "496      ‘    496\n",
       "497      œ    497\n",
       "498      ›    498\n",
       "499      ˆ    499\n",
       "\n",
       "[500 rows x 2 columns]"
      ]
     },
     "execution_count": 43,
     "metadata": {},
     "output_type": "execute_result"
    }
   ],
   "source": [
    "daa = csv_data[\"data1.csv\"]\n",
    "daa"
   ]
  },
  {
   "cell_type": "code",
   "execution_count": 48,
   "metadata": {},
   "outputs": [
    {
     "data": {
      "text/plain": [
       "np.int64(15848)"
      ]
     },
     "execution_count": 48,
     "metadata": {},
     "output_type": "execute_result"
    }
   ],
   "source": [
    "daa[(daa[\"symbol\"] == \"‘\") | (daa[\"symbol\"] == \"‡\") | (daa[\"symbol\"] == \"œ\")][\"value\"].sum()"
   ]
  },
  {
   "cell_type": "code",
   "execution_count": null,
   "metadata": {},
   "outputs": [],
   "source": []
  }
 ],
 "metadata": {
  "kernelspec": {
   "display_name": "env",
   "language": "python",
   "name": "python3"
  },
  "language_info": {
   "codemirror_mode": {
    "name": "ipython",
    "version": 3
   },
   "file_extension": ".py",
   "mimetype": "text/x-python",
   "name": "python",
   "nbconvert_exporter": "python",
   "pygments_lexer": "ipython3",
   "version": "3.11.4"
  }
 },
 "nbformat": 4,
 "nbformat_minor": 2
}
